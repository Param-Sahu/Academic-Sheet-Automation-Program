{
 "cells": [
  {
   "cell_type": "code",
   "execution_count": 1,
   "metadata": {},
   "outputs": [],
   "source": [
    "import pandas as pd "
   ]
  },
  {
   "cell_type": "code",
   "execution_count": 2,
   "metadata": {},
   "outputs": [
    {
     "data": {
      "text/plain": [
       "'SEM-I'"
      ]
     },
     "execution_count": 2,
     "metadata": {},
     "output_type": "execute_result"
    }
   ],
   "source": [
    "student_sheet = \"student_detail_test.xls\"\n",
    "sem_sheet = \"SEM-I_master sheet_test.xls\"\n",
    "UTD_file = \"UTD_test.csv\"\n",
    "current_semester = sem_sheet.split('_')[0] # Extracting Current Semester from file name.\n",
    "current_semester"
   ]
  },
  {
   "cell_type": "code",
   "execution_count": 3,
   "metadata": {},
   "outputs": [
    {
     "data": {
      "text/html": [
       "<div>\n",
       "<style scoped>\n",
       "    .dataframe tbody tr th:only-of-type {\n",
       "        vertical-align: middle;\n",
       "    }\n",
       "\n",
       "    .dataframe tbody tr th {\n",
       "        vertical-align: top;\n",
       "    }\n",
       "\n",
       "    .dataframe thead th {\n",
       "        text-align: right;\n",
       "    }\n",
       "</style>\n",
       "<table border=\"1\" class=\"dataframe\">\n",
       "  <thead>\n",
       "    <tr style=\"text-align: right;\">\n",
       "      <th></th>\n",
       "      <th>0</th>\n",
       "      <th>1</th>\n",
       "      <th>2</th>\n",
       "      <th>3</th>\n",
       "      <th>4</th>\n",
       "      <th>5</th>\n",
       "      <th>6</th>\n",
       "      <th>7</th>\n",
       "      <th>8</th>\n",
       "      <th>9</th>\n",
       "      <th>10</th>\n",
       "      <th>11</th>\n",
       "      <th>12</th>\n",
       "    </tr>\n",
       "  </thead>\n",
       "  <tbody>\n",
       "    <tr>\n",
       "      <th>0</th>\n",
       "      <td>NaN</td>\n",
       "      <td>NaN</td>\n",
       "      <td>NaN</td>\n",
       "      <td>NaN</td>\n",
       "      <td>IN6A-101</td>\n",
       "      <td>IN6A-103</td>\n",
       "      <td>IN6A-105</td>\n",
       "      <td>IN6A-107</td>\n",
       "      <td>IN6A-111</td>\n",
       "      <td>IN6A-121</td>\n",
       "      <td>IN6A-131</td>\n",
       "      <td>NaN</td>\n",
       "      <td>NaN</td>\n",
       "    </tr>\n",
       "    <tr>\n",
       "      <th>1</th>\n",
       "      <td>Sr No.</td>\n",
       "      <td>Student Name</td>\n",
       "      <td>Roll Number</td>\n",
       "      <td>Enrolment Number</td>\n",
       "      <td>Engineering Mathematics-I</td>\n",
       "      <td>Applied Physics-I</td>\n",
       "      <td>Engineering Chemistry</td>\n",
       "      <td>Laboratory Work</td>\n",
       "      <td>Communication Skills</td>\n",
       "      <td>Introduction to Programming and Data Structure</td>\n",
       "      <td>Comprehensive Viva Voce</td>\n",
       "      <td>SGPA</td>\n",
       "      <td>Result</td>\n",
       "    </tr>\n",
       "    <tr>\n",
       "      <th>2</th>\n",
       "      <td>NaN</td>\n",
       "      <td>NaN</td>\n",
       "      <td>NaN</td>\n",
       "      <td>Credits :-</td>\n",
       "      <td>4</td>\n",
       "      <td>4</td>\n",
       "      <td>4</td>\n",
       "      <td>4</td>\n",
       "      <td>4</td>\n",
       "      <td>4</td>\n",
       "      <td>4</td>\n",
       "      <td>NaN</td>\n",
       "      <td>NaN</td>\n",
       "    </tr>\n",
       "    <tr>\n",
       "      <th>3</th>\n",
       "      <td>1</td>\n",
       "      <td>Aamir Khan</td>\n",
       "      <td>22IOT1001</td>\n",
       "      <td>DE220203</td>\n",
       "      <td>C</td>\n",
       "      <td>C</td>\n",
       "      <td>B+</td>\n",
       "      <td>A+</td>\n",
       "      <td>A</td>\n",
       "      <td>B</td>\n",
       "      <td>A</td>\n",
       "      <td>6.857</td>\n",
       "      <td>PASS</td>\n",
       "    </tr>\n",
       "    <tr>\n",
       "      <th>4</th>\n",
       "      <td>2</td>\n",
       "      <td>Akshay Kumar</td>\n",
       "      <td>22IOT1002</td>\n",
       "      <td>DE220204</td>\n",
       "      <td>P</td>\n",
       "      <td>C</td>\n",
       "      <td>B</td>\n",
       "      <td>B+</td>\n",
       "      <td>A</td>\n",
       "      <td>P</td>\n",
       "      <td>B+</td>\n",
       "      <td>5.857</td>\n",
       "      <td>PASS</td>\n",
       "    </tr>\n",
       "    <tr>\n",
       "      <th>5</th>\n",
       "      <td>3</td>\n",
       "      <td>Ananya Pandey</td>\n",
       "      <td>22IOT1003</td>\n",
       "      <td>DE220205</td>\n",
       "      <td>P</td>\n",
       "      <td>B</td>\n",
       "      <td>P</td>\n",
       "      <td>A</td>\n",
       "      <td>B+</td>\n",
       "      <td>C</td>\n",
       "      <td>B+</td>\n",
       "      <td>5.857</td>\n",
       "      <td>PASS</td>\n",
       "    </tr>\n",
       "  </tbody>\n",
       "</table>\n",
       "</div>"
      ],
      "text/plain": [
       "       0              1            2                 3   \\\n",
       "0     NaN            NaN          NaN               NaN   \n",
       "1  Sr No.   Student Name  Roll Number  Enrolment Number   \n",
       "2     NaN            NaN          NaN        Credits :-   \n",
       "3       1     Aamir Khan    22IOT1001          DE220203   \n",
       "4       2   Akshay Kumar    22IOT1002          DE220204   \n",
       "5       3  Ananya Pandey    22IOT1003          DE220205   \n",
       "\n",
       "                          4                  5                      6   \\\n",
       "0                   IN6A-101           IN6A-103               IN6A-105   \n",
       "1  Engineering Mathematics-I  Applied Physics-I  Engineering Chemistry   \n",
       "2                          4                  4                      4   \n",
       "3                          C                  C                     B+   \n",
       "4                          P                  C                      B   \n",
       "5                          P                  B                      P   \n",
       "\n",
       "                7                     8   \\\n",
       "0         IN6A-107              IN6A-111   \n",
       "1  Laboratory Work  Communication Skills   \n",
       "2                4                     4   \n",
       "3               A+                     A   \n",
       "4               B+                     A   \n",
       "5                A                    B+   \n",
       "\n",
       "                                               9                        10  \\\n",
       "0                                        IN6A-121                 IN6A-131   \n",
       "1  Introduction to Programming and Data Structure  Comprehensive Viva Voce   \n",
       "2                                               4                        4   \n",
       "3                                               B                        A   \n",
       "4                                               P                       B+   \n",
       "5                                               C                       B+   \n",
       "\n",
       "      11      12  \n",
       "0    NaN     NaN  \n",
       "1   SGPA  Result  \n",
       "2    NaN     NaN  \n",
       "3  6.857    PASS  \n",
       "4  5.857    PASS  \n",
       "5  5.857    PASS  "
      ]
     },
     "execution_count": 3,
     "metadata": {},
     "output_type": "execute_result"
    }
   ],
   "source": [
    "\n",
    "# -----------------------------\n",
    "# Step 1: Read the Excel file\n",
    "# -----------------------------\n",
    "# Load the Excel file without headers so that rows and columns can be accessed by their index.\n",
    "df_excel = pd.read_excel(sem_sheet, header=None)\n",
    "df_excel"
   ]
  },
  {
   "cell_type": "code",
   "execution_count": 4,
   "metadata": {},
   "outputs": [
    {
     "data": {
      "text/html": [
       "<div>\n",
       "<style scoped>\n",
       "    .dataframe tbody tr th:only-of-type {\n",
       "        vertical-align: middle;\n",
       "    }\n",
       "\n",
       "    .dataframe tbody tr th {\n",
       "        vertical-align: top;\n",
       "    }\n",
       "\n",
       "    .dataframe thead th {\n",
       "        text-align: right;\n",
       "    }\n",
       "</style>\n",
       "<table border=\"1\" class=\"dataframe\">\n",
       "  <thead>\n",
       "    <tr style=\"text-align: right;\">\n",
       "      <th></th>\n",
       "      <th>0</th>\n",
       "      <th>1</th>\n",
       "      <th>2</th>\n",
       "      <th>3</th>\n",
       "      <th>4</th>\n",
       "      <th>5</th>\n",
       "    </tr>\n",
       "  </thead>\n",
       "  <tbody>\n",
       "    <tr>\n",
       "      <th>0</th>\n",
       "      <td>Course</td>\n",
       "      <td>M.TECH.</td>\n",
       "      <td>NaN</td>\n",
       "      <td>NaN</td>\n",
       "      <td>NaN</td>\n",
       "      <td>NaN</td>\n",
       "    </tr>\n",
       "    <tr>\n",
       "      <th>1</th>\n",
       "      <td>Branch</td>\n",
       "      <td>INTERNET OF THINGS (IOT)</td>\n",
       "      <td>NaN</td>\n",
       "      <td>NaN</td>\n",
       "      <td>NaN</td>\n",
       "      <td>NaN</td>\n",
       "    </tr>\n",
       "    <tr>\n",
       "      <th>2</th>\n",
       "      <td>Batch</td>\n",
       "      <td>2022-2027</td>\n",
       "      <td>NaN</td>\n",
       "      <td>NaN</td>\n",
       "      <td>NaN</td>\n",
       "      <td>NaN</td>\n",
       "    </tr>\n",
       "    <tr>\n",
       "      <th>3</th>\n",
       "      <td>Sr No</td>\n",
       "      <td>Name</td>\n",
       "      <td>Roll No.</td>\n",
       "      <td>Enrolment No.</td>\n",
       "      <td>Father’s Name</td>\n",
       "      <td>Mother’s Name</td>\n",
       "    </tr>\n",
       "    <tr>\n",
       "      <th>4</th>\n",
       "      <td>1</td>\n",
       "      <td>Aamir Khan</td>\n",
       "      <td>22IOT5001</td>\n",
       "      <td>DE220203</td>\n",
       "      <td>Mr. Bharat</td>\n",
       "      <td>Mrs. Manisha</td>\n",
       "    </tr>\n",
       "    <tr>\n",
       "      <th>5</th>\n",
       "      <td>2</td>\n",
       "      <td>Akshay kumar</td>\n",
       "      <td>22IOT5002</td>\n",
       "      <td>DE220204</td>\n",
       "      <td>Mr. Rakesh Kumar</td>\n",
       "      <td>Mrs. Anita</td>\n",
       "    </tr>\n",
       "    <tr>\n",
       "      <th>6</th>\n",
       "      <td>3</td>\n",
       "      <td>Ananya Pandey</td>\n",
       "      <td>22IOT5003</td>\n",
       "      <td>DE220205</td>\n",
       "      <td>Mr. Pawan</td>\n",
       "      <td>Mrs. Monika</td>\n",
       "    </tr>\n",
       "  </tbody>\n",
       "</table>\n",
       "</div>"
      ],
      "text/plain": [
       "        0                         1          2              3  \\\n",
       "0  Course                   M.TECH.        NaN            NaN   \n",
       "1  Branch  INTERNET OF THINGS (IOT)        NaN            NaN   \n",
       "2   Batch                 2022-2027        NaN            NaN   \n",
       "3   Sr No                      Name   Roll No.  Enrolment No.   \n",
       "4       1                Aamir Khan  22IOT5001       DE220203   \n",
       "5       2             Akshay kumar   22IOT5002       DE220204   \n",
       "6       3             Ananya Pandey  22IOT5003       DE220205   \n",
       "\n",
       "                  4              5  \n",
       "0               NaN            NaN  \n",
       "1               NaN            NaN  \n",
       "2               NaN            NaN  \n",
       "3     Father’s Name  Mother’s Name  \n",
       "4        Mr. Bharat   Mrs. Manisha  \n",
       "5  Mr. Rakesh Kumar     Mrs. Anita  \n",
       "6         Mr. Pawan    Mrs. Monika  "
      ]
     },
     "execution_count": 4,
     "metadata": {},
     "output_type": "execute_result"
    }
   ],
   "source": [
    "df_student = pd.read_excel(student_sheet,header=None)\n",
    "df_student"
   ]
  },
  {
   "cell_type": "code",
   "execution_count": 5,
   "metadata": {},
   "outputs": [
    {
     "data": {
      "text/plain": [
       "'2022-2027'"
      ]
     },
     "execution_count": 5,
     "metadata": {},
     "output_type": "execute_result"
    }
   ],
   "source": [
    "# Extract Session for particular Batch\n",
    "session = df_student.iloc[2,1]\n",
    "session"
   ]
  },
  {
   "cell_type": "code",
   "execution_count": 6,
   "metadata": {},
   "outputs": [
    {
     "data": {
      "text/plain": [
       "0          Mr. Bharat\n",
       "1    Mr. Rakesh Kumar\n",
       "2           Mr. Pawan\n",
       "Name: 4, dtype: object"
      ]
     },
     "execution_count": 6,
     "metadata": {},
     "output_type": "execute_result"
    }
   ],
   "source": [
    "# Extract Parents Names for all Students \n",
    "fathers_name = df_student.iloc[4:,4].reset_index(drop = True)\n",
    "fathers_name"
   ]
  },
  {
   "cell_type": "code",
   "execution_count": 7,
   "metadata": {},
   "outputs": [
    {
     "data": {
      "text/plain": [
       "0    Mrs. Manisha\n",
       "1      Mrs. Anita\n",
       "2     Mrs. Monika\n",
       "Name: 5, dtype: object"
      ]
     },
     "execution_count": 7,
     "metadata": {},
     "output_type": "execute_result"
    }
   ],
   "source": [
    "mothers_name = df_student.iloc[4:,5].reset_index(drop = True)\n",
    "mothers_name"
   ]
  },
  {
   "cell_type": "code",
   "execution_count": 8,
   "metadata": {},
   "outputs": [
    {
     "data": {
      "text/plain": [
       "0    22IOT1001\n",
       "1    22IOT1002\n",
       "2    22IOT1003\n",
       "Name: 2, dtype: object"
      ]
     },
     "execution_count": 8,
     "metadata": {},
     "output_type": "execute_result"
    }
   ],
   "source": [
    "\n",
    "# Extract roll numbers from column C (index 2) starting from row 4 (index 3)\n",
    "roll_numbers = df_excel.iloc[3:, 2].reset_index(drop=True)\n",
    "type(roll_numbers)\n",
    "roll_numbers"
   ]
  },
  {
   "cell_type": "code",
   "execution_count": 9,
   "metadata": {},
   "outputs": [
    {
     "data": {
      "text/plain": [
       "0    DE220203\n",
       "1    DE220204\n",
       "2    DE220205\n",
       "Name: 3, dtype: object"
      ]
     },
     "execution_count": 9,
     "metadata": {},
     "output_type": "execute_result"
    }
   ],
   "source": [
    "# Extract enrollment numbers from column D (index 3) starting from row 4 (index 3)\n",
    "enrollment_numbers = df_excel.iloc[3:, 3].reset_index(drop=True)\n",
    "enrollment_numbers"
   ]
  },
  {
   "cell_type": "code",
   "execution_count": 10,
   "metadata": {},
   "outputs": [
    {
     "data": {
      "text/plain": [
       "0    4\n",
       "1    4\n",
       "2    4\n",
       "3    4\n",
       "4    4\n",
       "5    4\n",
       "6    4\n",
       "Name: 2, dtype: object"
      ]
     },
     "execution_count": 10,
     "metadata": {},
     "output_type": "execute_result"
    }
   ],
   "source": [
    "credits = df_excel.iloc[2, 4:].reset_index(drop=True)\n",
    "credits = credits.dropna()\n",
    "credits\n"
   ]
  },
  {
   "cell_type": "code",
   "execution_count": 11,
   "metadata": {},
   "outputs": [
    {
     "data": {
      "text/plain": [
       "(28, 7)"
      ]
     },
     "execution_count": 11,
     "metadata": {},
     "output_type": "execute_result"
    }
   ],
   "source": [
    "total_subjects, total_credits = len(credits), sum(credits)\n",
    "total_credits, total_subjects"
   ]
  },
  {
   "cell_type": "code",
   "execution_count": 29,
   "metadata": {},
   "outputs": [
    {
     "data": {
      "text/plain": [
       "0    6.857\n",
       "1    5.857\n",
       "2    5.857\n",
       "Name: 11, dtype: object"
      ]
     },
     "execution_count": 29,
     "metadata": {},
     "output_type": "execute_result"
    }
   ],
   "source": [
    "sgpa = df_excel.iloc[3:, 4 + total_subjects ].reset_index(drop=True)\n",
    "sgpa"
   ]
  },
  {
   "cell_type": "code",
   "execution_count": 34,
   "metadata": {},
   "outputs": [
    {
     "data": {
      "text/plain": [
       "0    PASS\n",
       "1    PASS\n",
       "2    PASS\n",
       "Name: 12, dtype: object"
      ]
     },
     "execution_count": 34,
     "metadata": {},
     "output_type": "execute_result"
    }
   ],
   "source": [
    "results = df_excel.iloc[3:, 5 + total_subjects].reset_index(drop=True)\n",
    "results"
   ]
  },
  {
   "cell_type": "code",
   "execution_count": 68,
   "metadata": {},
   "outputs": [
    {
     "data": {
      "text/plain": [
       "0     FIRST\n",
       "1    SECOND\n",
       "2    SECOND\n",
       "Name: 11, dtype: object"
      ]
     },
     "execution_count": 68,
     "metadata": {},
     "output_type": "execute_result"
    }
   ],
   "source": [
    "division = sgpa.apply(lambda x: 'FIRST WITH DISTINCTION' if x >= 8.0 \n",
    "                      else ('FIRST' if x >= 6.5\n",
    "                      else ('SECOND' if x >= 5.0 \n",
    "                            else ('PASS' if x >= 4.0 else 'FAIL'))))\n",
    "division"
   ]
  },
  {
   "cell_type": "code",
   "execution_count": 62,
   "metadata": {},
   "outputs": [
    {
     "data": {
      "text/plain": [
       "0    6.857\n",
       "1    5.857\n",
       "2    5.857\n",
       "Name: 11, dtype: object"
      ]
     },
     "execution_count": 62,
     "metadata": {},
     "output_type": "execute_result"
    }
   ],
   "source": [
    "if current_semester == \"SEM-I\":\n",
    "    cgpa = sgpa.copy()\n",
    "    YEAR = int(session.split('-')[0])+1\n",
    "    if YEAR == 2023:\n",
    "        MONTH = \"MARCH\"\n",
    "    else:\n",
    "        MONTH = \"JANUARY\"\n",
    "        \n",
    "cgpa"
   ]
  },
  {
   "cell_type": "code",
   "execution_count": 63,
   "metadata": {},
   "outputs": [
    {
     "data": {
      "text/plain": [
       "(2023, 'MARCH')"
      ]
     },
     "execution_count": 63,
     "metadata": {},
     "output_type": "execute_result"
    }
   ],
   "source": [
    "YEAR,MONTH"
   ]
  },
  {
   "cell_type": "code",
   "execution_count": 44,
   "metadata": {},
   "outputs": [
    {
     "data": {
      "text/plain": [
       "0       Aamir Khan\n",
       "1     Akshay Kumar\n",
       "2    Ananya Pandey\n",
       "Name: 1, dtype: object"
      ]
     },
     "execution_count": 44,
     "metadata": {},
     "output_type": "execute_result"
    }
   ],
   "source": [
    "\n",
    "# Extract Names of Student from column 'B' (index 1) starting from row 4 (index 3)\n",
    "student_names = df_excel.iloc[3:, 1].reset_index(drop=True)\n",
    "student_names"
   ]
  },
  {
   "cell_type": "code",
   "execution_count": 45,
   "metadata": {},
   "outputs": [],
   "source": [
    "# -----------------------------\n",
    "# Step 2: Read the CSV file\n",
    "# -----------------------------\n",
    "# Load UTD.csv; here it's assumed that the CSV does not have a header.\n",
    "df_utd = pd.read_csv(UTD_file, header=None)\n"
   ]
  },
  {
   "cell_type": "code",
   "execution_count": null,
   "metadata": {},
   "outputs": [],
   "source": [
    "\n",
    "# -----------------------------\n",
    "# Step 3: Ensure UTD.csv has enough rows and columns\n",
    "# -----------------------------\n",
    "# Calculate required number of rows (roll/enrollment numbers etc. start at row 3)\n",
    "required_rows = max(len(roll_numbers), len(enrollment_numbers)) + 2  # Account for first 2 rows\n",
    "if len(df_utd) < required_rows:\n",
    "    extra_rows = pd.DataFrame([[\"\"] * df_utd.shape[1]] * (required_rows - len(df_utd)))\n",
    "    df_utd = pd.concat([df_utd, extra_rows], ignore_index=True)\n",
    "\n",
    "# Step 4: Fill constant data for all students\n",
    "# -----------------------------\n",
    "# For each student (starting at row 3 i.e. index 2), fill in columns A-F with constant values.\n",
    "\n",
    "df_utd.iloc[2:required_rows, 0] = \"DEVI AHILYA VISHWAVIDYALAYA INDORE\"   # University Name (Column A)\n",
    "df_utd.iloc[2:required_rows, 1] = \"SCHOOL OF INSTRUMENTATION INDORE\"     # College Name (Column B)\n",
    "df_utd.iloc[2:required_rows, 2] = \"INTEGRATED M.TECH (IOT)\"              # Course Name in Short (Column C)\n",
    "df_utd.iloc[2:required_rows, 3] = \"INTEGRATED MASTER OF TECHNOLOGY\"      # Full Course Name (Column D)\n",
    "df_utd.iloc[2:required_rows, 4] = \"INTEGRATED MASTER OF TECHNOLOGY\"      # Full Course Name in Detail (Column E)\n",
    "df_utd.iloc[2:required_rows, 5] = \"INTERNET OF THINGS\"                   # Stream (Column F)\n",
    "df_utd.iloc[2:required_rows, 7] = session                                # Session for Batch \n",
    "df_utd.iloc[2:required_rows, 18] = YEAR                                  # Year for Batch  \n",
    "df_utd.iloc[2:required_rows, 19] = MONTH                                 # MONTH for Batch  \n",
    "df_utd.iloc[2:required_rows, 23] = current_semester.split('-')[1]        # Semester for Batch , Extracting Semester Number from file name. By SEM-I , spliting it by '-' and taking 2nd part of it.\n",
    "df_utd.iloc[2:required_rows, 24] = current_semester.split('-')[0]        # Semester for Batch , Extracting Sem or Year from file name. By SEM-I , spliting it by '-' and taking 1st part of it.\n",
    "df_utd.iloc[2:required_rows, 27] = total_credits                           # Total Credits for Batch\n"
   ]
  },
  {
   "cell_type": "code",
   "execution_count": 65,
   "metadata": {},
   "outputs": [],
   "source": [
    "variable_data = {8: enrollment_numbers,  # Column : Data format\n",
    "                 9: roll_numbers,\n",
    "                10:student_names,\n",
    "                13:fathers_name,\n",
    "                14:mothers_name,\n",
    "                17: results,\n",
    "                20: division,\n",
    "                32: cgpa,\n",
    "                34: sgpa\n",
    "                 }  # Dictionary of data to be written into UTD.csv\n",
    "\n",
    "# Write data into UTD.csv\n",
    "for column, values in variable_data.items():\n",
    "    for i, value in enumerate(values):\n",
    "        df_utd.iat[i + 2, column] = value\n"
   ]
  },
  {
   "cell_type": "code",
   "execution_count": 66,
   "metadata": {},
   "outputs": [
    {
     "data": {
      "text/plain": [
       "(5, 340)"
      ]
     },
     "execution_count": 66,
     "metadata": {},
     "output_type": "execute_result"
    }
   ],
   "source": [
    "df_utd.shape"
   ]
  },
  {
   "cell_type": "code",
   "execution_count": 67,
   "metadata": {},
   "outputs": [
    {
     "data": {
      "text/html": [
       "<div>\n",
       "<style scoped>\n",
       "    .dataframe tbody tr th:only-of-type {\n",
       "        vertical-align: middle;\n",
       "    }\n",
       "\n",
       "    .dataframe tbody tr th {\n",
       "        vertical-align: top;\n",
       "    }\n",
       "\n",
       "    .dataframe thead th {\n",
       "        text-align: right;\n",
       "    }\n",
       "</style>\n",
       "<table border=\"1\" class=\"dataframe\">\n",
       "  <thead>\n",
       "    <tr style=\"text-align: right;\">\n",
       "      <th></th>\n",
       "      <th>14</th>\n",
       "      <th>15</th>\n",
       "      <th>16</th>\n",
       "      <th>17</th>\n",
       "      <th>18</th>\n",
       "      <th>19</th>\n",
       "    </tr>\n",
       "  </thead>\n",
       "  <tbody>\n",
       "    <tr>\n",
       "      <th>0</th>\n",
       "      <td>MNAME</td>\n",
       "      <td>PHOTO</td>\n",
       "      <td>MRKS_REC_STATUS</td>\n",
       "      <td>RESULT</td>\n",
       "      <td>YEAR</td>\n",
       "      <td>MONTH</td>\n",
       "    </tr>\n",
       "    <tr>\n",
       "      <th>1</th>\n",
       "      <td>NaN</td>\n",
       "      <td>NaN</td>\n",
       "      <td>MARK O FOR ORIGINAL AND M FOR MODIFY</td>\n",
       "      <td>PASS/FAIL/W.H.</td>\n",
       "      <td>NaN</td>\n",
       "      <td>NaN</td>\n",
       "    </tr>\n",
       "    <tr>\n",
       "      <th>2</th>\n",
       "      <td>Mrs. Manisha</td>\n",
       "      <td></td>\n",
       "      <td>O</td>\n",
       "      <td>PASS</td>\n",
       "      <td>2023</td>\n",
       "      <td>MARCH</td>\n",
       "    </tr>\n",
       "    <tr>\n",
       "      <th>3</th>\n",
       "      <td>Mrs. Anita</td>\n",
       "      <td>NaN</td>\n",
       "      <td>NaN</td>\n",
       "      <td>PASS</td>\n",
       "      <td>2023</td>\n",
       "      <td>MARCH</td>\n",
       "    </tr>\n",
       "    <tr>\n",
       "      <th>4</th>\n",
       "      <td>Mrs. Monika</td>\n",
       "      <td>NaN</td>\n",
       "      <td>NaN</td>\n",
       "      <td>PASS</td>\n",
       "      <td>2023</td>\n",
       "      <td>MARCH</td>\n",
       "    </tr>\n",
       "  </tbody>\n",
       "</table>\n",
       "</div>"
      ],
      "text/plain": [
       "             14     15                                    16              17  \\\n",
       "0         MNAME  PHOTO                       MRKS_REC_STATUS          RESULT   \n",
       "1           NaN    NaN  MARK O FOR ORIGINAL AND M FOR MODIFY  PASS/FAIL/W.H.   \n",
       "2  Mrs. Manisha                                            O            PASS   \n",
       "3    Mrs. Anita    NaN                                   NaN            PASS   \n",
       "4   Mrs. Monika    NaN                                   NaN            PASS   \n",
       "\n",
       "     18     19  \n",
       "0  YEAR  MONTH  \n",
       "1   NaN    NaN  \n",
       "2  2023  MARCH  \n",
       "3  2023  MARCH  \n",
       "4  2023  MARCH  "
      ]
     },
     "execution_count": 67,
     "metadata": {},
     "output_type": "execute_result"
    }
   ],
   "source": [
    "# -----------------------------\n",
    "# Step 5: Save the updated CSV file\n",
    "# -----------------------------\n",
    "UTD_output_file = \"UTD_\" + session + '_' + current_semester + '.csv' # Creating a seperate CSV file for different semesters data.\n",
    "#df_utd.to_csv(UTD_output_file, index=False, header=False)\n",
    "df_utd.iloc[:, 14:20]  # Display only first 15 columns"
   ]
  },
  {
   "cell_type": "code",
   "execution_count": null,
   "metadata": {},
   "outputs": [],
   "source": [
    "df_utd.tail()"
   ]
  }
 ],
 "metadata": {
  "kernelspec": {
   "display_name": "Python 3",
   "language": "python",
   "name": "python3"
  },
  "language_info": {
   "codemirror_mode": {
    "name": "ipython",
    "version": 3
   },
   "file_extension": ".py",
   "mimetype": "text/x-python",
   "name": "python",
   "nbconvert_exporter": "python",
   "pygments_lexer": "ipython3",
   "version": "3.12.7"
  }
 },
 "nbformat": 4,
 "nbformat_minor": 2
}
